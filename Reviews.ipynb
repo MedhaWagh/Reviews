{
  "nbformat": 4,
  "nbformat_minor": 0,
  "metadata": {
    "colab": {
      "name": "Reviews.ipynb",
      "provenance": [],
      "toc_visible": true,
      "authorship_tag": "ABX9TyOcFSOhO64cuv+xbe99eTd8",
      "include_colab_link": true
    },
    "kernelspec": {
      "name": "python3",
      "display_name": "Python 3"
    }
  },
  "cells": [
    {
      "cell_type": "markdown",
      "metadata": {
        "id": "view-in-github",
        "colab_type": "text"
      },
      "source": [
        "<a href=\"https://colab.research.google.com/github/MedhaWagh/Reviews/blob/master/Reviews.ipynb\" target=\"_parent\"><img src=\"https://colab.research.google.com/assets/colab-badge.svg\" alt=\"Open In Colab\"/></a>"
      ]
    },
    {
      "cell_type": "markdown",
      "metadata": {
        "id": "H3-WLgsMdmT6",
        "colab_type": "text"
      },
      "source": [
        "##Importing Libraries"
      ]
    },
    {
      "cell_type": "code",
      "metadata": {
        "id": "rEKyEmhXdI3u",
        "colab_type": "code",
        "colab": {}
      },
      "source": [
        "import pandas as pd\n",
        "import numpy as np\n",
        "import matplotlib.pyplot as plt"
      ],
      "execution_count": 0,
      "outputs": []
    },
    {
      "cell_type": "markdown",
      "metadata": {
        "id": "WRsg32y3d6gm",
        "colab_type": "text"
      },
      "source": [
        "##Importing Dataset"
      ]
    },
    {
      "cell_type": "code",
      "metadata": {
        "id": "R7hQqp-FeAvC",
        "colab_type": "code",
        "colab": {}
      },
      "source": [
        "dataset= pd.read_csv ('Restaurant_Reviews.tsv', delimiter='\\t', quoting=3)"
      ],
      "execution_count": 0,
      "outputs": []
    },
    {
      "cell_type": "markdown",
      "metadata": {
        "id": "rR3UG9dOeptY",
        "colab_type": "text"
      },
      "source": [
        "##Cleaning text"
      ]
    },
    {
      "cell_type": "code",
      "metadata": {
        "id": "QCRPd8HMf0pK",
        "colab_type": "code",
        "outputId": "49451434-7883-4461-a44b-8ab9902eb0ca",
        "colab": {
          "base_uri": "https://localhost:8080/",
          "height": 50
        }
      },
      "source": [
        "import re\n",
        "import nltk\n",
        "nltk.download('stopwords')\n",
        "from nltk.corpus import  stopwords\n",
        "from nltk.stem.porter import PorterStemmer\n",
        "corpus= []\n",
        "for i in range(0, 1000):\n",
        "    review=  re.sub(('^a-zA-Z'), '', dataset['Review'][i])\n",
        "    review=review.lower()\n",
        "    review=review.split()\n",
        "    ps=PorterStemmer()\n",
        "    review= [ps.stem(word) for word in review if not word in set (stopwords.words('english'))]\n",
        "\n",
        "    review= ' '.join(review)\n",
        "    corpus.append(review)\n"
      ],
      "execution_count": 16,
      "outputs": [
        {
          "output_type": "stream",
          "text": [
            "[nltk_data] Downloading package stopwords to /root/nltk_data...\n",
            "[nltk_data]   Package stopwords is already up-to-date!\n"
          ],
          "name": "stdout"
        }
      ]
    },
    {
      "cell_type": "markdown",
      "metadata": {
        "id": "zvniJEX0sftY",
        "colab_type": "text"
      },
      "source": [
        "##creating bag of words model"
      ]
    },
    {
      "cell_type": "code",
      "metadata": {
        "id": "_q49SJ64snS-",
        "colab_type": "code",
        "colab": {}
      },
      "source": [
        "from sklearn.feature_extraction.text import CountVectorizer\n",
        "cv= CountVectorizer(max_features= 1500)\n",
        "X= cv.fit_transform (corpus).toarray()\n",
        "#pd.DataFrame.from_records(X)\n",
        "y = dataset.iloc[:, -1].values"
      ],
      "execution_count": 0,
      "outputs": []
    },
    {
      "cell_type": "markdown",
      "metadata": {
        "id": "7PWFapn-WMoD",
        "colab_type": "text"
      },
      "source": [
        "##Creating Training and Test set"
      ]
    },
    {
      "cell_type": "code",
      "metadata": {
        "id": "rLpI2fHCWPYe",
        "colab_type": "code",
        "colab": {}
      },
      "source": [
        "from sklearn.model_selection import train_test_split\n",
        "X_train, X_test, y_train, y_test = train_test_split(X, y, test_size = 0.25, random_state = 0)"
      ],
      "execution_count": 0,
      "outputs": []
    },
    {
      "cell_type": "markdown",
      "metadata": {
        "id": "CBNH-jiF0CoV",
        "colab_type": "text"
      },
      "source": [
        "## Applying a classification Model"
      ]
    },
    {
      "cell_type": "code",
      "metadata": {
        "id": "uUcrYoWx0H61",
        "colab_type": "code",
        "outputId": "c32cc884-363d-4788-8877-79a4d40f77ed",
        "colab": {
          "base_uri": "https://localhost:8080/",
          "height": 34
        }
      },
      "source": [
        "from sklearn.naive_bayes import GaussianNB\n",
        "classifier = GaussianNB()\n",
        "classifier.fit(X_train, y_train)"
      ],
      "execution_count": 19,
      "outputs": [
        {
          "output_type": "execute_result",
          "data": {
            "text/plain": [
              "GaussianNB(priors=None, var_smoothing=1e-09)"
            ]
          },
          "metadata": {
            "tags": []
          },
          "execution_count": 19
        }
      ]
    },
    {
      "cell_type": "markdown",
      "metadata": {
        "id": "Om1qOFmm0_4G",
        "colab_type": "text"
      },
      "source": [
        "##Confusion Matrix"
      ]
    },
    {
      "cell_type": "code",
      "metadata": {
        "id": "J9nT53931Cv4",
        "colab_type": "code",
        "outputId": "2a10486b-2833-4699-c171-0c34384f8bd0",
        "colab": {
          "base_uri": "https://localhost:8080/",
          "height": 67
        }
      },
      "source": [
        "from sklearn.metrics import confusion_matrix, accuracy_score\n",
        "y_pred = classifier.predict(X_test)\n",
        "cm = confusion_matrix(y_test, y_pred)\n",
        "print(cm)\n",
        "accuracy_score(y_test, y_pred)"
      ],
      "execution_count": 20,
      "outputs": [
        {
          "output_type": "stream",
          "text": [
            "[[ 65  52]\n",
            " [ 15 118]]\n"
          ],
          "name": "stdout"
        },
        {
          "output_type": "execute_result",
          "data": {
            "text/plain": [
              "0.732"
            ]
          },
          "metadata": {
            "tags": []
          },
          "execution_count": 20
        }
      ]
    }
  ]
}